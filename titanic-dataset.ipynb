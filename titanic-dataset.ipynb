{
 "cells": [
  {
   "cell_type": "code",
   "execution_count": 1,
   "id": "14e44b22",
   "metadata": {
    "execution": {
     "iopub.execute_input": "2024-06-04T18:57:45.230401Z",
     "iopub.status.busy": "2024-06-04T18:57:45.229945Z",
     "iopub.status.idle": "2024-06-04T18:57:46.194679Z",
     "shell.execute_reply": "2024-06-04T18:57:46.193408Z"
    },
    "papermill": {
     "duration": 0.976384,
     "end_time": "2024-06-04T18:57:46.197467",
     "exception": false,
     "start_time": "2024-06-04T18:57:45.221083",
     "status": "completed"
    },
    "tags": []
   },
   "outputs": [],
   "source": [
    "import pandas as pd\n",
    "import warnings\n",
    "warnings.filterwarnings(\"ignore\")"
   ]
  },
  {
   "cell_type": "code",
   "execution_count": 2,
   "id": "32310559",
   "metadata": {
    "execution": {
     "iopub.execute_input": "2024-06-04T18:57:46.213035Z",
     "iopub.status.busy": "2024-06-04T18:57:46.212443Z",
     "iopub.status.idle": "2024-06-04T18:57:46.237994Z",
     "shell.execute_reply": "2024-06-04T18:57:46.236843Z"
    },
    "papermill": {
     "duration": 0.036159,
     "end_time": "2024-06-04T18:57:46.240614",
     "exception": false,
     "start_time": "2024-06-04T18:57:46.204455",
     "status": "completed"
    },
    "tags": []
   },
   "outputs": [],
   "source": [
    "df=pd.read_csv(\"/kaggle/input/titanic-dataset/Titanic-Dataset.csv\")"
   ]
  },
  {
   "cell_type": "code",
   "execution_count": 3,
   "id": "6173f0cd",
   "metadata": {
    "execution": {
     "iopub.execute_input": "2024-06-04T18:57:46.256830Z",
     "iopub.status.busy": "2024-06-04T18:57:46.256389Z",
     "iopub.status.idle": "2024-06-04T18:57:46.284614Z",
     "shell.execute_reply": "2024-06-04T18:57:46.283107Z"
    },
    "papermill": {
     "duration": 0.039758,
     "end_time": "2024-06-04T18:57:46.287522",
     "exception": false,
     "start_time": "2024-06-04T18:57:46.247764",
     "status": "completed"
    },
    "tags": []
   },
   "outputs": [
    {
     "data": {
      "text/html": [
       "<div>\n",
       "<style scoped>\n",
       "    .dataframe tbody tr th:only-of-type {\n",
       "        vertical-align: middle;\n",
       "    }\n",
       "\n",
       "    .dataframe tbody tr th {\n",
       "        vertical-align: top;\n",
       "    }\n",
       "\n",
       "    .dataframe thead th {\n",
       "        text-align: right;\n",
       "    }\n",
       "</style>\n",
       "<table border=\"1\" class=\"dataframe\">\n",
       "  <thead>\n",
       "    <tr style=\"text-align: right;\">\n",
       "      <th></th>\n",
       "      <th>PassengerId</th>\n",
       "      <th>Survived</th>\n",
       "      <th>Pclass</th>\n",
       "      <th>Name</th>\n",
       "      <th>Sex</th>\n",
       "      <th>Age</th>\n",
       "      <th>SibSp</th>\n",
       "      <th>Parch</th>\n",
       "      <th>Ticket</th>\n",
       "      <th>Fare</th>\n",
       "      <th>Cabin</th>\n",
       "      <th>Embarked</th>\n",
       "    </tr>\n",
       "  </thead>\n",
       "  <tbody>\n",
       "    <tr>\n",
       "      <th>0</th>\n",
       "      <td>1</td>\n",
       "      <td>0</td>\n",
       "      <td>3</td>\n",
       "      <td>Braund, Mr. Owen Harris</td>\n",
       "      <td>male</td>\n",
       "      <td>22.0</td>\n",
       "      <td>1</td>\n",
       "      <td>0</td>\n",
       "      <td>A/5 21171</td>\n",
       "      <td>7.2500</td>\n",
       "      <td>NaN</td>\n",
       "      <td>S</td>\n",
       "    </tr>\n",
       "    <tr>\n",
       "      <th>1</th>\n",
       "      <td>2</td>\n",
       "      <td>1</td>\n",
       "      <td>1</td>\n",
       "      <td>Cumings, Mrs. John Bradley (Florence Briggs Th...</td>\n",
       "      <td>female</td>\n",
       "      <td>38.0</td>\n",
       "      <td>1</td>\n",
       "      <td>0</td>\n",
       "      <td>PC 17599</td>\n",
       "      <td>71.2833</td>\n",
       "      <td>C85</td>\n",
       "      <td>C</td>\n",
       "    </tr>\n",
       "    <tr>\n",
       "      <th>2</th>\n",
       "      <td>3</td>\n",
       "      <td>1</td>\n",
       "      <td>3</td>\n",
       "      <td>Heikkinen, Miss. Laina</td>\n",
       "      <td>female</td>\n",
       "      <td>26.0</td>\n",
       "      <td>0</td>\n",
       "      <td>0</td>\n",
       "      <td>STON/O2. 3101282</td>\n",
       "      <td>7.9250</td>\n",
       "      <td>NaN</td>\n",
       "      <td>S</td>\n",
       "    </tr>\n",
       "    <tr>\n",
       "      <th>3</th>\n",
       "      <td>4</td>\n",
       "      <td>1</td>\n",
       "      <td>1</td>\n",
       "      <td>Futrelle, Mrs. Jacques Heath (Lily May Peel)</td>\n",
       "      <td>female</td>\n",
       "      <td>35.0</td>\n",
       "      <td>1</td>\n",
       "      <td>0</td>\n",
       "      <td>113803</td>\n",
       "      <td>53.1000</td>\n",
       "      <td>C123</td>\n",
       "      <td>S</td>\n",
       "    </tr>\n",
       "    <tr>\n",
       "      <th>4</th>\n",
       "      <td>5</td>\n",
       "      <td>0</td>\n",
       "      <td>3</td>\n",
       "      <td>Allen, Mr. William Henry</td>\n",
       "      <td>male</td>\n",
       "      <td>35.0</td>\n",
       "      <td>0</td>\n",
       "      <td>0</td>\n",
       "      <td>373450</td>\n",
       "      <td>8.0500</td>\n",
       "      <td>NaN</td>\n",
       "      <td>S</td>\n",
       "    </tr>\n",
       "  </tbody>\n",
       "</table>\n",
       "</div>"
      ],
      "text/plain": [
       "   PassengerId  Survived  Pclass  \\\n",
       "0            1         0       3   \n",
       "1            2         1       1   \n",
       "2            3         1       3   \n",
       "3            4         1       1   \n",
       "4            5         0       3   \n",
       "\n",
       "                                                Name     Sex   Age  SibSp  \\\n",
       "0                            Braund, Mr. Owen Harris    male  22.0      1   \n",
       "1  Cumings, Mrs. John Bradley (Florence Briggs Th...  female  38.0      1   \n",
       "2                             Heikkinen, Miss. Laina  female  26.0      0   \n",
       "3       Futrelle, Mrs. Jacques Heath (Lily May Peel)  female  35.0      1   \n",
       "4                           Allen, Mr. William Henry    male  35.0      0   \n",
       "\n",
       "   Parch            Ticket     Fare Cabin Embarked  \n",
       "0      0         A/5 21171   7.2500   NaN        S  \n",
       "1      0          PC 17599  71.2833   C85        C  \n",
       "2      0  STON/O2. 3101282   7.9250   NaN        S  \n",
       "3      0            113803  53.1000  C123        S  \n",
       "4      0            373450   8.0500   NaN        S  "
      ]
     },
     "execution_count": 3,
     "metadata": {},
     "output_type": "execute_result"
    }
   ],
   "source": [
    "df.head()"
   ]
  },
  {
   "cell_type": "code",
   "execution_count": 4,
   "id": "0e097c68",
   "metadata": {
    "execution": {
     "iopub.execute_input": "2024-06-04T18:57:46.303794Z",
     "iopub.status.busy": "2024-06-04T18:57:46.303346Z",
     "iopub.status.idle": "2024-06-04T18:57:46.326831Z",
     "shell.execute_reply": "2024-06-04T18:57:46.325732Z"
    },
    "papermill": {
     "duration": 0.034398,
     "end_time": "2024-06-04T18:57:46.329111",
     "exception": false,
     "start_time": "2024-06-04T18:57:46.294713",
     "status": "completed"
    },
    "tags": []
   },
   "outputs": [
    {
     "data": {
      "text/html": [
       "<div>\n",
       "<style scoped>\n",
       "    .dataframe tbody tr th:only-of-type {\n",
       "        vertical-align: middle;\n",
       "    }\n",
       "\n",
       "    .dataframe tbody tr th {\n",
       "        vertical-align: top;\n",
       "    }\n",
       "\n",
       "    .dataframe thead th {\n",
       "        text-align: right;\n",
       "    }\n",
       "</style>\n",
       "<table border=\"1\" class=\"dataframe\">\n",
       "  <thead>\n",
       "    <tr style=\"text-align: right;\">\n",
       "      <th></th>\n",
       "      <th>PassengerId</th>\n",
       "      <th>Survived</th>\n",
       "      <th>Pclass</th>\n",
       "      <th>Name</th>\n",
       "      <th>Sex</th>\n",
       "      <th>Age</th>\n",
       "      <th>SibSp</th>\n",
       "      <th>Parch</th>\n",
       "      <th>Ticket</th>\n",
       "      <th>Fare</th>\n",
       "      <th>Cabin</th>\n",
       "      <th>Embarked</th>\n",
       "    </tr>\n",
       "  </thead>\n",
       "  <tbody>\n",
       "    <tr>\n",
       "      <th>0</th>\n",
       "      <td>1</td>\n",
       "      <td>0</td>\n",
       "      <td>3</td>\n",
       "      <td>Braund, Mr. Owen Harris</td>\n",
       "      <td>male</td>\n",
       "      <td>22.0</td>\n",
       "      <td>1</td>\n",
       "      <td>0</td>\n",
       "      <td>A/5 21171</td>\n",
       "      <td>7.2500</td>\n",
       "      <td>NaN</td>\n",
       "      <td>S</td>\n",
       "    </tr>\n",
       "    <tr>\n",
       "      <th>1</th>\n",
       "      <td>2</td>\n",
       "      <td>1</td>\n",
       "      <td>1</td>\n",
       "      <td>Cumings, Mrs. John Bradley (Florence Briggs Th...</td>\n",
       "      <td>female</td>\n",
       "      <td>38.0</td>\n",
       "      <td>1</td>\n",
       "      <td>0</td>\n",
       "      <td>PC 17599</td>\n",
       "      <td>71.2833</td>\n",
       "      <td>C85</td>\n",
       "      <td>C</td>\n",
       "    </tr>\n",
       "    <tr>\n",
       "      <th>2</th>\n",
       "      <td>3</td>\n",
       "      <td>1</td>\n",
       "      <td>3</td>\n",
       "      <td>Heikkinen, Miss. Laina</td>\n",
       "      <td>female</td>\n",
       "      <td>26.0</td>\n",
       "      <td>0</td>\n",
       "      <td>0</td>\n",
       "      <td>STON/O2. 3101282</td>\n",
       "      <td>7.9250</td>\n",
       "      <td>NaN</td>\n",
       "      <td>S</td>\n",
       "    </tr>\n",
       "    <tr>\n",
       "      <th>3</th>\n",
       "      <td>4</td>\n",
       "      <td>1</td>\n",
       "      <td>1</td>\n",
       "      <td>Futrelle, Mrs. Jacques Heath (Lily May Peel)</td>\n",
       "      <td>female</td>\n",
       "      <td>35.0</td>\n",
       "      <td>1</td>\n",
       "      <td>0</td>\n",
       "      <td>113803</td>\n",
       "      <td>53.1000</td>\n",
       "      <td>C123</td>\n",
       "      <td>S</td>\n",
       "    </tr>\n",
       "    <tr>\n",
       "      <th>4</th>\n",
       "      <td>5</td>\n",
       "      <td>0</td>\n",
       "      <td>3</td>\n",
       "      <td>Allen, Mr. William Henry</td>\n",
       "      <td>male</td>\n",
       "      <td>35.0</td>\n",
       "      <td>0</td>\n",
       "      <td>0</td>\n",
       "      <td>373450</td>\n",
       "      <td>8.0500</td>\n",
       "      <td>NaN</td>\n",
       "      <td>S</td>\n",
       "    </tr>\n",
       "    <tr>\n",
       "      <th>...</th>\n",
       "      <td>...</td>\n",
       "      <td>...</td>\n",
       "      <td>...</td>\n",
       "      <td>...</td>\n",
       "      <td>...</td>\n",
       "      <td>...</td>\n",
       "      <td>...</td>\n",
       "      <td>...</td>\n",
       "      <td>...</td>\n",
       "      <td>...</td>\n",
       "      <td>...</td>\n",
       "      <td>...</td>\n",
       "    </tr>\n",
       "    <tr>\n",
       "      <th>886</th>\n",
       "      <td>887</td>\n",
       "      <td>0</td>\n",
       "      <td>2</td>\n",
       "      <td>Montvila, Rev. Juozas</td>\n",
       "      <td>male</td>\n",
       "      <td>27.0</td>\n",
       "      <td>0</td>\n",
       "      <td>0</td>\n",
       "      <td>211536</td>\n",
       "      <td>13.0000</td>\n",
       "      <td>NaN</td>\n",
       "      <td>S</td>\n",
       "    </tr>\n",
       "    <tr>\n",
       "      <th>887</th>\n",
       "      <td>888</td>\n",
       "      <td>1</td>\n",
       "      <td>1</td>\n",
       "      <td>Graham, Miss. Margaret Edith</td>\n",
       "      <td>female</td>\n",
       "      <td>19.0</td>\n",
       "      <td>0</td>\n",
       "      <td>0</td>\n",
       "      <td>112053</td>\n",
       "      <td>30.0000</td>\n",
       "      <td>B42</td>\n",
       "      <td>S</td>\n",
       "    </tr>\n",
       "    <tr>\n",
       "      <th>888</th>\n",
       "      <td>889</td>\n",
       "      <td>0</td>\n",
       "      <td>3</td>\n",
       "      <td>Johnston, Miss. Catherine Helen \"Carrie\"</td>\n",
       "      <td>female</td>\n",
       "      <td>NaN</td>\n",
       "      <td>1</td>\n",
       "      <td>2</td>\n",
       "      <td>W./C. 6607</td>\n",
       "      <td>23.4500</td>\n",
       "      <td>NaN</td>\n",
       "      <td>S</td>\n",
       "    </tr>\n",
       "    <tr>\n",
       "      <th>889</th>\n",
       "      <td>890</td>\n",
       "      <td>1</td>\n",
       "      <td>1</td>\n",
       "      <td>Behr, Mr. Karl Howell</td>\n",
       "      <td>male</td>\n",
       "      <td>26.0</td>\n",
       "      <td>0</td>\n",
       "      <td>0</td>\n",
       "      <td>111369</td>\n",
       "      <td>30.0000</td>\n",
       "      <td>C148</td>\n",
       "      <td>C</td>\n",
       "    </tr>\n",
       "    <tr>\n",
       "      <th>890</th>\n",
       "      <td>891</td>\n",
       "      <td>0</td>\n",
       "      <td>3</td>\n",
       "      <td>Dooley, Mr. Patrick</td>\n",
       "      <td>male</td>\n",
       "      <td>32.0</td>\n",
       "      <td>0</td>\n",
       "      <td>0</td>\n",
       "      <td>370376</td>\n",
       "      <td>7.7500</td>\n",
       "      <td>NaN</td>\n",
       "      <td>Q</td>\n",
       "    </tr>\n",
       "  </tbody>\n",
       "</table>\n",
       "<p>891 rows × 12 columns</p>\n",
       "</div>"
      ],
      "text/plain": [
       "     PassengerId  Survived  Pclass  \\\n",
       "0              1         0       3   \n",
       "1              2         1       1   \n",
       "2              3         1       3   \n",
       "3              4         1       1   \n",
       "4              5         0       3   \n",
       "..           ...       ...     ...   \n",
       "886          887         0       2   \n",
       "887          888         1       1   \n",
       "888          889         0       3   \n",
       "889          890         1       1   \n",
       "890          891         0       3   \n",
       "\n",
       "                                                  Name     Sex   Age  SibSp  \\\n",
       "0                              Braund, Mr. Owen Harris    male  22.0      1   \n",
       "1    Cumings, Mrs. John Bradley (Florence Briggs Th...  female  38.0      1   \n",
       "2                               Heikkinen, Miss. Laina  female  26.0      0   \n",
       "3         Futrelle, Mrs. Jacques Heath (Lily May Peel)  female  35.0      1   \n",
       "4                             Allen, Mr. William Henry    male  35.0      0   \n",
       "..                                                 ...     ...   ...    ...   \n",
       "886                              Montvila, Rev. Juozas    male  27.0      0   \n",
       "887                       Graham, Miss. Margaret Edith  female  19.0      0   \n",
       "888           Johnston, Miss. Catherine Helen \"Carrie\"  female   NaN      1   \n",
       "889                              Behr, Mr. Karl Howell    male  26.0      0   \n",
       "890                                Dooley, Mr. Patrick    male  32.0      0   \n",
       "\n",
       "     Parch            Ticket     Fare Cabin Embarked  \n",
       "0        0         A/5 21171   7.2500   NaN        S  \n",
       "1        0          PC 17599  71.2833   C85        C  \n",
       "2        0  STON/O2. 3101282   7.9250   NaN        S  \n",
       "3        0            113803  53.1000  C123        S  \n",
       "4        0            373450   8.0500   NaN        S  \n",
       "..     ...               ...      ...   ...      ...  \n",
       "886      0            211536  13.0000   NaN        S  \n",
       "887      0            112053  30.0000   B42        S  \n",
       "888      2        W./C. 6607  23.4500   NaN        S  \n",
       "889      0            111369  30.0000  C148        C  \n",
       "890      0            370376   7.7500   NaN        Q  \n",
       "\n",
       "[891 rows x 12 columns]"
      ]
     },
     "execution_count": 4,
     "metadata": {},
     "output_type": "execute_result"
    }
   ],
   "source": [
    "df"
   ]
  },
  {
   "cell_type": "code",
   "execution_count": 5,
   "id": "7d910433",
   "metadata": {
    "execution": {
     "iopub.execute_input": "2024-06-04T18:57:46.345674Z",
     "iopub.status.busy": "2024-06-04T18:57:46.345286Z",
     "iopub.status.idle": "2024-06-04T18:57:46.357027Z",
     "shell.execute_reply": "2024-06-04T18:57:46.355686Z"
    },
    "papermill": {
     "duration": 0.023005,
     "end_time": "2024-06-04T18:57:46.359466",
     "exception": false,
     "start_time": "2024-06-04T18:57:46.336461",
     "status": "completed"
    },
    "tags": []
   },
   "outputs": [
    {
     "data": {
      "text/plain": [
       "PassengerId      0\n",
       "Survived         0\n",
       "Pclass           0\n",
       "Name             0\n",
       "Sex              0\n",
       "Age            177\n",
       "SibSp            0\n",
       "Parch            0\n",
       "Ticket           0\n",
       "Fare             0\n",
       "Cabin          687\n",
       "Embarked         2\n",
       "dtype: int64"
      ]
     },
     "execution_count": 5,
     "metadata": {},
     "output_type": "execute_result"
    }
   ],
   "source": [
    "df.isnull().sum()"
   ]
  },
  {
   "cell_type": "markdown",
   "id": "5b5911bd",
   "metadata": {
    "papermill": {
     "duration": 0.007719,
     "end_time": "2024-06-04T18:57:46.374824",
     "exception": false,
     "start_time": "2024-06-04T18:57:46.367105",
     "status": "completed"
    },
    "tags": []
   },
   "source": [
    "Spilling the data into independent and dependent variables"
   ]
  },
  {
   "cell_type": "code",
   "execution_count": 6,
   "id": "76e4b44e",
   "metadata": {
    "execution": {
     "iopub.execute_input": "2024-06-04T18:57:46.392379Z",
     "iopub.status.busy": "2024-06-04T18:57:46.391760Z",
     "iopub.status.idle": "2024-06-04T18:57:46.400293Z",
     "shell.execute_reply": "2024-06-04T18:57:46.399217Z"
    },
    "papermill": {
     "duration": 0.019823,
     "end_time": "2024-06-04T18:57:46.402692",
     "exception": false,
     "start_time": "2024-06-04T18:57:46.382869",
     "status": "completed"
    },
    "tags": []
   },
   "outputs": [],
   "source": [
    "x=df[[\"Pclass\",\"Sex\",\"Age\"]]"
   ]
  },
  {
   "cell_type": "code",
   "execution_count": 7,
   "id": "3e3e2f4a",
   "metadata": {
    "execution": {
     "iopub.execute_input": "2024-06-04T18:57:46.420135Z",
     "iopub.status.busy": "2024-06-04T18:57:46.419718Z",
     "iopub.status.idle": "2024-06-04T18:57:46.425174Z",
     "shell.execute_reply": "2024-06-04T18:57:46.423860Z"
    },
    "papermill": {
     "duration": 0.017682,
     "end_time": "2024-06-04T18:57:46.427965",
     "exception": false,
     "start_time": "2024-06-04T18:57:46.410283",
     "status": "completed"
    },
    "tags": []
   },
   "outputs": [],
   "source": [
    "y=df.Survived"
   ]
  },
  {
   "cell_type": "code",
   "execution_count": 8,
   "id": "071f3a5c",
   "metadata": {
    "execution": {
     "iopub.execute_input": "2024-06-04T18:57:46.445663Z",
     "iopub.status.busy": "2024-06-04T18:57:46.445262Z",
     "iopub.status.idle": "2024-06-04T18:57:46.454450Z",
     "shell.execute_reply": "2024-06-04T18:57:46.453286Z"
    },
    "papermill": {
     "duration": 0.021313,
     "end_time": "2024-06-04T18:57:46.456912",
     "exception": false,
     "start_time": "2024-06-04T18:57:46.435599",
     "status": "completed"
    },
    "tags": []
   },
   "outputs": [
    {
     "data": {
      "text/plain": [
       "Pclass      0\n",
       "Sex         0\n",
       "Age       177\n",
       "dtype: int64"
      ]
     },
     "execution_count": 8,
     "metadata": {},
     "output_type": "execute_result"
    }
   ],
   "source": [
    "x.isnull().sum()"
   ]
  },
  {
   "cell_type": "markdown",
   "id": "74fc1064",
   "metadata": {
    "papermill": {
     "duration": 0.007885,
     "end_time": "2024-06-04T18:57:46.472606",
     "exception": false,
     "start_time": "2024-06-04T18:57:46.464721",
     "status": "completed"
    },
    "tags": []
   },
   "source": [
    "Fill the empty spaces in Age column \n"
   ]
  },
  {
   "cell_type": "code",
   "execution_count": 9,
   "id": "85875bd7",
   "metadata": {
    "execution": {
     "iopub.execute_input": "2024-06-04T18:57:46.491486Z",
     "iopub.status.busy": "2024-06-04T18:57:46.491103Z",
     "iopub.status.idle": "2024-06-04T18:57:46.499149Z",
     "shell.execute_reply": "2024-06-04T18:57:46.497916Z"
    },
    "papermill": {
     "duration": 0.022624,
     "end_time": "2024-06-04T18:57:46.503072",
     "exception": false,
     "start_time": "2024-06-04T18:57:46.480448",
     "status": "completed"
    },
    "tags": []
   },
   "outputs": [],
   "source": [
    "x.Age.fillna(x.Age.mean(),inplace=True)"
   ]
  },
  {
   "cell_type": "code",
   "execution_count": 10,
   "id": "7ce9a76d",
   "metadata": {
    "execution": {
     "iopub.execute_input": "2024-06-04T18:57:46.520388Z",
     "iopub.status.busy": "2024-06-04T18:57:46.520028Z",
     "iopub.status.idle": "2024-06-04T18:57:46.529374Z",
     "shell.execute_reply": "2024-06-04T18:57:46.528072Z"
    },
    "papermill": {
     "duration": 0.020991,
     "end_time": "2024-06-04T18:57:46.531950",
     "exception": false,
     "start_time": "2024-06-04T18:57:46.510959",
     "status": "completed"
    },
    "tags": []
   },
   "outputs": [
    {
     "data": {
      "text/plain": [
       "Pclass    0\n",
       "Sex       0\n",
       "Age       0\n",
       "dtype: int64"
      ]
     },
     "execution_count": 10,
     "metadata": {},
     "output_type": "execute_result"
    }
   ],
   "source": [
    "x.isnull().sum()"
   ]
  },
  {
   "cell_type": "code",
   "execution_count": 11,
   "id": "d39db675",
   "metadata": {
    "execution": {
     "iopub.execute_input": "2024-06-04T18:57:46.549299Z",
     "iopub.status.busy": "2024-06-04T18:57:46.548909Z",
     "iopub.status.idle": "2024-06-04T18:57:46.558243Z",
     "shell.execute_reply": "2024-06-04T18:57:46.557075Z"
    },
    "papermill": {
     "duration": 0.020701,
     "end_time": "2024-06-04T18:57:46.560612",
     "exception": false,
     "start_time": "2024-06-04T18:57:46.539911",
     "status": "completed"
    },
    "tags": []
   },
   "outputs": [
    {
     "data": {
      "text/plain": [
       "0      0\n",
       "1      1\n",
       "2      1\n",
       "3      1\n",
       "4      0\n",
       "      ..\n",
       "886    0\n",
       "887    1\n",
       "888    0\n",
       "889    1\n",
       "890    0\n",
       "Name: Survived, Length: 891, dtype: int64"
      ]
     },
     "execution_count": 11,
     "metadata": {},
     "output_type": "execute_result"
    }
   ],
   "source": [
    "y"
   ]
  },
  {
   "cell_type": "markdown",
   "id": "dd969e6e",
   "metadata": {
    "papermill": {
     "duration": 0.007953,
     "end_time": "2024-06-04T18:57:46.576891",
     "exception": false,
     "start_time": "2024-06-04T18:57:46.568938",
     "status": "completed"
    },
    "tags": []
   },
   "source": [
    "Converting string to numerical\n",
    "\n"
   ]
  },
  {
   "cell_type": "code",
   "execution_count": 12,
   "id": "b73c60c5",
   "metadata": {
    "execution": {
     "iopub.execute_input": "2024-06-04T18:57:46.595548Z",
     "iopub.status.busy": "2024-06-04T18:57:46.595191Z",
     "iopub.status.idle": "2024-06-04T18:57:48.021180Z",
     "shell.execute_reply": "2024-06-04T18:57:48.019893Z"
    },
    "papermill": {
     "duration": 1.438292,
     "end_time": "2024-06-04T18:57:48.023825",
     "exception": false,
     "start_time": "2024-06-04T18:57:46.585533",
     "status": "completed"
    },
    "tags": []
   },
   "outputs": [],
   "source": [
    "from sklearn.preprocessing import LabelEncoder"
   ]
  },
  {
   "cell_type": "code",
   "execution_count": 13,
   "id": "dd457cb1",
   "metadata": {
    "execution": {
     "iopub.execute_input": "2024-06-04T18:57:48.043019Z",
     "iopub.status.busy": "2024-06-04T18:57:48.041982Z",
     "iopub.status.idle": "2024-06-04T18:57:48.047548Z",
     "shell.execute_reply": "2024-06-04T18:57:48.046409Z"
    },
    "papermill": {
     "duration": 0.017545,
     "end_time": "2024-06-04T18:57:48.050013",
     "exception": false,
     "start_time": "2024-06-04T18:57:48.032468",
     "status": "completed"
    },
    "tags": []
   },
   "outputs": [],
   "source": [
    "le=LabelEncoder()"
   ]
  },
  {
   "cell_type": "code",
   "execution_count": 14,
   "id": "c2f4286d",
   "metadata": {
    "execution": {
     "iopub.execute_input": "2024-06-04T18:57:48.068729Z",
     "iopub.status.busy": "2024-06-04T18:57:48.068345Z",
     "iopub.status.idle": "2024-06-04T18:57:48.075216Z",
     "shell.execute_reply": "2024-06-04T18:57:48.073874Z"
    },
    "papermill": {
     "duration": 0.019946,
     "end_time": "2024-06-04T18:57:48.078043",
     "exception": false,
     "start_time": "2024-06-04T18:57:48.058097",
     "status": "completed"
    },
    "tags": []
   },
   "outputs": [],
   "source": [
    "gen=le.fit_transform(x.Sex)"
   ]
  },
  {
   "cell_type": "code",
   "execution_count": 15,
   "id": "0a0aa119",
   "metadata": {
    "execution": {
     "iopub.execute_input": "2024-06-04T18:57:48.095380Z",
     "iopub.status.busy": "2024-06-04T18:57:48.095009Z",
     "iopub.status.idle": "2024-06-04T18:57:48.101403Z",
     "shell.execute_reply": "2024-06-04T18:57:48.099939Z"
    },
    "papermill": {
     "duration": 0.017852,
     "end_time": "2024-06-04T18:57:48.103815",
     "exception": false,
     "start_time": "2024-06-04T18:57:48.085963",
     "status": "completed"
    },
    "tags": []
   },
   "outputs": [],
   "source": [
    "x[\"Gender\"]=gen"
   ]
  },
  {
   "cell_type": "code",
   "execution_count": 16,
   "id": "3f21f4bf",
   "metadata": {
    "execution": {
     "iopub.execute_input": "2024-06-04T18:57:48.121327Z",
     "iopub.status.busy": "2024-06-04T18:57:48.120949Z",
     "iopub.status.idle": "2024-06-04T18:57:48.127115Z",
     "shell.execute_reply": "2024-06-04T18:57:48.125969Z"
    },
    "papermill": {
     "duration": 0.017775,
     "end_time": "2024-06-04T18:57:48.129608",
     "exception": false,
     "start_time": "2024-06-04T18:57:48.111833",
     "status": "completed"
    },
    "tags": []
   },
   "outputs": [],
   "source": [
    "x.drop(\"Sex\",axis=1,inplace=True)"
   ]
  },
  {
   "cell_type": "code",
   "execution_count": 17,
   "id": "2bb83467",
   "metadata": {
    "execution": {
     "iopub.execute_input": "2024-06-04T18:57:48.147645Z",
     "iopub.status.busy": "2024-06-04T18:57:48.146851Z",
     "iopub.status.idle": "2024-06-04T18:57:48.158899Z",
     "shell.execute_reply": "2024-06-04T18:57:48.157840Z"
    },
    "papermill": {
     "duration": 0.023787,
     "end_time": "2024-06-04T18:57:48.161338",
     "exception": false,
     "start_time": "2024-06-04T18:57:48.137551",
     "status": "completed"
    },
    "tags": []
   },
   "outputs": [
    {
     "data": {
      "text/html": [
       "<div>\n",
       "<style scoped>\n",
       "    .dataframe tbody tr th:only-of-type {\n",
       "        vertical-align: middle;\n",
       "    }\n",
       "\n",
       "    .dataframe tbody tr th {\n",
       "        vertical-align: top;\n",
       "    }\n",
       "\n",
       "    .dataframe thead th {\n",
       "        text-align: right;\n",
       "    }\n",
       "</style>\n",
       "<table border=\"1\" class=\"dataframe\">\n",
       "  <thead>\n",
       "    <tr style=\"text-align: right;\">\n",
       "      <th></th>\n",
       "      <th>Pclass</th>\n",
       "      <th>Age</th>\n",
       "      <th>Gender</th>\n",
       "    </tr>\n",
       "  </thead>\n",
       "  <tbody>\n",
       "    <tr>\n",
       "      <th>0</th>\n",
       "      <td>3</td>\n",
       "      <td>22.000000</td>\n",
       "      <td>1</td>\n",
       "    </tr>\n",
       "    <tr>\n",
       "      <th>1</th>\n",
       "      <td>1</td>\n",
       "      <td>38.000000</td>\n",
       "      <td>0</td>\n",
       "    </tr>\n",
       "    <tr>\n",
       "      <th>2</th>\n",
       "      <td>3</td>\n",
       "      <td>26.000000</td>\n",
       "      <td>0</td>\n",
       "    </tr>\n",
       "    <tr>\n",
       "      <th>3</th>\n",
       "      <td>1</td>\n",
       "      <td>35.000000</td>\n",
       "      <td>0</td>\n",
       "    </tr>\n",
       "    <tr>\n",
       "      <th>4</th>\n",
       "      <td>3</td>\n",
       "      <td>35.000000</td>\n",
       "      <td>1</td>\n",
       "    </tr>\n",
       "    <tr>\n",
       "      <th>...</th>\n",
       "      <td>...</td>\n",
       "      <td>...</td>\n",
       "      <td>...</td>\n",
       "    </tr>\n",
       "    <tr>\n",
       "      <th>886</th>\n",
       "      <td>2</td>\n",
       "      <td>27.000000</td>\n",
       "      <td>1</td>\n",
       "    </tr>\n",
       "    <tr>\n",
       "      <th>887</th>\n",
       "      <td>1</td>\n",
       "      <td>19.000000</td>\n",
       "      <td>0</td>\n",
       "    </tr>\n",
       "    <tr>\n",
       "      <th>888</th>\n",
       "      <td>3</td>\n",
       "      <td>29.699118</td>\n",
       "      <td>0</td>\n",
       "    </tr>\n",
       "    <tr>\n",
       "      <th>889</th>\n",
       "      <td>1</td>\n",
       "      <td>26.000000</td>\n",
       "      <td>1</td>\n",
       "    </tr>\n",
       "    <tr>\n",
       "      <th>890</th>\n",
       "      <td>3</td>\n",
       "      <td>32.000000</td>\n",
       "      <td>1</td>\n",
       "    </tr>\n",
       "  </tbody>\n",
       "</table>\n",
       "<p>891 rows × 3 columns</p>\n",
       "</div>"
      ],
      "text/plain": [
       "     Pclass        Age  Gender\n",
       "0         3  22.000000       1\n",
       "1         1  38.000000       0\n",
       "2         3  26.000000       0\n",
       "3         1  35.000000       0\n",
       "4         3  35.000000       1\n",
       "..      ...        ...     ...\n",
       "886       2  27.000000       1\n",
       "887       1  19.000000       0\n",
       "888       3  29.699118       0\n",
       "889       1  26.000000       1\n",
       "890       3  32.000000       1\n",
       "\n",
       "[891 rows x 3 columns]"
      ]
     },
     "execution_count": 17,
     "metadata": {},
     "output_type": "execute_result"
    }
   ],
   "source": [
    "x"
   ]
  },
  {
   "cell_type": "code",
   "execution_count": 18,
   "id": "d1646c1d",
   "metadata": {
    "execution": {
     "iopub.execute_input": "2024-06-04T18:57:48.179514Z",
     "iopub.status.busy": "2024-06-04T18:57:48.178701Z",
     "iopub.status.idle": "2024-06-04T18:57:48.299089Z",
     "shell.execute_reply": "2024-06-04T18:57:48.297868Z"
    },
    "papermill": {
     "duration": 0.132334,
     "end_time": "2024-06-04T18:57:48.301683",
     "exception": false,
     "start_time": "2024-06-04T18:57:48.169349",
     "status": "completed"
    },
    "tags": []
   },
   "outputs": [],
   "source": [
    "from sklearn.model_selection import train_test_split"
   ]
  },
  {
   "cell_type": "code",
   "execution_count": 19,
   "id": "d38c0cb8",
   "metadata": {
    "execution": {
     "iopub.execute_input": "2024-06-04T18:57:48.319688Z",
     "iopub.status.busy": "2024-06-04T18:57:48.319296Z",
     "iopub.status.idle": "2024-06-04T18:57:48.328908Z",
     "shell.execute_reply": "2024-06-04T18:57:48.327834Z"
    },
    "papermill": {
     "duration": 0.021231,
     "end_time": "2024-06-04T18:57:48.331234",
     "exception": false,
     "start_time": "2024-06-04T18:57:48.310003",
     "status": "completed"
    },
    "tags": []
   },
   "outputs": [],
   "source": [
    "train_x,test_x,train_y,test_y=train_test_split(x,y,test_size=0.2)"
   ]
  },
  {
   "cell_type": "code",
   "execution_count": 20,
   "id": "ad860f8c",
   "metadata": {
    "execution": {
     "iopub.execute_input": "2024-06-04T18:57:48.349341Z",
     "iopub.status.busy": "2024-06-04T18:57:48.348959Z",
     "iopub.status.idle": "2024-06-04T18:57:48.356301Z",
     "shell.execute_reply": "2024-06-04T18:57:48.355206Z"
    },
    "papermill": {
     "duration": 0.018952,
     "end_time": "2024-06-04T18:57:48.358509",
     "exception": false,
     "start_time": "2024-06-04T18:57:48.339557",
     "status": "completed"
    },
    "tags": []
   },
   "outputs": [
    {
     "data": {
      "text/plain": [
       "(712, 179)"
      ]
     },
     "execution_count": 20,
     "metadata": {},
     "output_type": "execute_result"
    }
   ],
   "source": [
    "len(train_x),len(test_x)"
   ]
  },
  {
   "cell_type": "code",
   "execution_count": 21,
   "id": "e751e411",
   "metadata": {
    "execution": {
     "iopub.execute_input": "2024-06-04T18:57:48.376558Z",
     "iopub.status.busy": "2024-06-04T18:57:48.376199Z",
     "iopub.status.idle": "2024-06-04T18:57:48.479502Z",
     "shell.execute_reply": "2024-06-04T18:57:48.478246Z"
    },
    "papermill": {
     "duration": 0.115485,
     "end_time": "2024-06-04T18:57:48.482302",
     "exception": false,
     "start_time": "2024-06-04T18:57:48.366817",
     "status": "completed"
    },
    "tags": []
   },
   "outputs": [],
   "source": [
    "from sklearn.linear_model import LogisticRegression"
   ]
  },
  {
   "cell_type": "code",
   "execution_count": 22,
   "id": "4dacf84d",
   "metadata": {
    "execution": {
     "iopub.execute_input": "2024-06-04T18:57:48.501847Z",
     "iopub.status.busy": "2024-06-04T18:57:48.501453Z",
     "iopub.status.idle": "2024-06-04T18:57:48.507224Z",
     "shell.execute_reply": "2024-06-04T18:57:48.505799Z"
    },
    "papermill": {
     "duration": 0.018489,
     "end_time": "2024-06-04T18:57:48.509763",
     "exception": false,
     "start_time": "2024-06-04T18:57:48.491274",
     "status": "completed"
    },
    "tags": []
   },
   "outputs": [],
   "source": [
    "model=LogisticRegression()"
   ]
  },
  {
   "cell_type": "code",
   "execution_count": 23,
   "id": "dafa4206",
   "metadata": {
    "execution": {
     "iopub.execute_input": "2024-06-04T18:57:48.528890Z",
     "iopub.status.busy": "2024-06-04T18:57:48.527894Z",
     "iopub.status.idle": "2024-06-04T18:57:48.555145Z",
     "shell.execute_reply": "2024-06-04T18:57:48.553795Z"
    },
    "papermill": {
     "duration": 0.040113,
     "end_time": "2024-06-04T18:57:48.558289",
     "exception": false,
     "start_time": "2024-06-04T18:57:48.518176",
     "status": "completed"
    },
    "tags": []
   },
   "outputs": [
    {
     "data": {
      "text/html": [
       "<style>#sk-container-id-1 {color: black;background-color: white;}#sk-container-id-1 pre{padding: 0;}#sk-container-id-1 div.sk-toggleable {background-color: white;}#sk-container-id-1 label.sk-toggleable__label {cursor: pointer;display: block;width: 100%;margin-bottom: 0;padding: 0.3em;box-sizing: border-box;text-align: center;}#sk-container-id-1 label.sk-toggleable__label-arrow:before {content: \"▸\";float: left;margin-right: 0.25em;color: #696969;}#sk-container-id-1 label.sk-toggleable__label-arrow:hover:before {color: black;}#sk-container-id-1 div.sk-estimator:hover label.sk-toggleable__label-arrow:before {color: black;}#sk-container-id-1 div.sk-toggleable__content {max-height: 0;max-width: 0;overflow: hidden;text-align: left;background-color: #f0f8ff;}#sk-container-id-1 div.sk-toggleable__content pre {margin: 0.2em;color: black;border-radius: 0.25em;background-color: #f0f8ff;}#sk-container-id-1 input.sk-toggleable__control:checked~div.sk-toggleable__content {max-height: 200px;max-width: 100%;overflow: auto;}#sk-container-id-1 input.sk-toggleable__control:checked~label.sk-toggleable__label-arrow:before {content: \"▾\";}#sk-container-id-1 div.sk-estimator input.sk-toggleable__control:checked~label.sk-toggleable__label {background-color: #d4ebff;}#sk-container-id-1 div.sk-label input.sk-toggleable__control:checked~label.sk-toggleable__label {background-color: #d4ebff;}#sk-container-id-1 input.sk-hidden--visually {border: 0;clip: rect(1px 1px 1px 1px);clip: rect(1px, 1px, 1px, 1px);height: 1px;margin: -1px;overflow: hidden;padding: 0;position: absolute;width: 1px;}#sk-container-id-1 div.sk-estimator {font-family: monospace;background-color: #f0f8ff;border: 1px dotted black;border-radius: 0.25em;box-sizing: border-box;margin-bottom: 0.5em;}#sk-container-id-1 div.sk-estimator:hover {background-color: #d4ebff;}#sk-container-id-1 div.sk-parallel-item::after {content: \"\";width: 100%;border-bottom: 1px solid gray;flex-grow: 1;}#sk-container-id-1 div.sk-label:hover label.sk-toggleable__label {background-color: #d4ebff;}#sk-container-id-1 div.sk-serial::before {content: \"\";position: absolute;border-left: 1px solid gray;box-sizing: border-box;top: 0;bottom: 0;left: 50%;z-index: 0;}#sk-container-id-1 div.sk-serial {display: flex;flex-direction: column;align-items: center;background-color: white;padding-right: 0.2em;padding-left: 0.2em;position: relative;}#sk-container-id-1 div.sk-item {position: relative;z-index: 1;}#sk-container-id-1 div.sk-parallel {display: flex;align-items: stretch;justify-content: center;background-color: white;position: relative;}#sk-container-id-1 div.sk-item::before, #sk-container-id-1 div.sk-parallel-item::before {content: \"\";position: absolute;border-left: 1px solid gray;box-sizing: border-box;top: 0;bottom: 0;left: 50%;z-index: -1;}#sk-container-id-1 div.sk-parallel-item {display: flex;flex-direction: column;z-index: 1;position: relative;background-color: white;}#sk-container-id-1 div.sk-parallel-item:first-child::after {align-self: flex-end;width: 50%;}#sk-container-id-1 div.sk-parallel-item:last-child::after {align-self: flex-start;width: 50%;}#sk-container-id-1 div.sk-parallel-item:only-child::after {width: 0;}#sk-container-id-1 div.sk-dashed-wrapped {border: 1px dashed gray;margin: 0 0.4em 0.5em 0.4em;box-sizing: border-box;padding-bottom: 0.4em;background-color: white;}#sk-container-id-1 div.sk-label label {font-family: monospace;font-weight: bold;display: inline-block;line-height: 1.2em;}#sk-container-id-1 div.sk-label-container {text-align: center;}#sk-container-id-1 div.sk-container {/* jupyter's `normalize.less` sets `[hidden] { display: none; }` but bootstrap.min.css set `[hidden] { display: none !important; }` so we also need the `!important` here to be able to override the default hidden behavior on the sphinx rendered scikit-learn.org. See: https://github.com/scikit-learn/scikit-learn/issues/21755 */display: inline-block !important;position: relative;}#sk-container-id-1 div.sk-text-repr-fallback {display: none;}</style><div id=\"sk-container-id-1\" class=\"sk-top-container\"><div class=\"sk-text-repr-fallback\"><pre>LogisticRegression()</pre><b>In a Jupyter environment, please rerun this cell to show the HTML representation or trust the notebook. <br />On GitHub, the HTML representation is unable to render, please try loading this page with nbviewer.org.</b></div><div class=\"sk-container\" hidden><div class=\"sk-item\"><div class=\"sk-estimator sk-toggleable\"><input class=\"sk-toggleable__control sk-hidden--visually\" id=\"sk-estimator-id-1\" type=\"checkbox\" checked><label for=\"sk-estimator-id-1\" class=\"sk-toggleable__label sk-toggleable__label-arrow\">LogisticRegression</label><div class=\"sk-toggleable__content\"><pre>LogisticRegression()</pre></div></div></div></div></div>"
      ],
      "text/plain": [
       "LogisticRegression()"
      ]
     },
     "execution_count": 23,
     "metadata": {},
     "output_type": "execute_result"
    }
   ],
   "source": [
    "model.fit(train_x,train_y)"
   ]
  },
  {
   "cell_type": "code",
   "execution_count": 24,
   "id": "ffd650fc",
   "metadata": {
    "execution": {
     "iopub.execute_input": "2024-06-04T18:57:48.578668Z",
     "iopub.status.busy": "2024-06-04T18:57:48.577619Z",
     "iopub.status.idle": "2024-06-04T18:57:48.588292Z",
     "shell.execute_reply": "2024-06-04T18:57:48.587053Z"
    },
    "papermill": {
     "duration": 0.023044,
     "end_time": "2024-06-04T18:57:48.590734",
     "exception": false,
     "start_time": "2024-06-04T18:57:48.567690",
     "status": "completed"
    },
    "tags": []
   },
   "outputs": [
    {
     "data": {
      "text/plain": [
       "0.8044692737430168"
      ]
     },
     "execution_count": 24,
     "metadata": {},
     "output_type": "execute_result"
    }
   ],
   "source": [
    "model.score(test_x,test_y)"
   ]
  },
  {
   "cell_type": "code",
   "execution_count": 25,
   "id": "fab582d3",
   "metadata": {
    "execution": {
     "iopub.execute_input": "2024-06-04T18:57:48.609861Z",
     "iopub.status.busy": "2024-06-04T18:57:48.609432Z",
     "iopub.status.idle": "2024-06-04T18:57:48.621848Z",
     "shell.execute_reply": "2024-06-04T18:57:48.620707Z"
    },
    "papermill": {
     "duration": 0.024668,
     "end_time": "2024-06-04T18:57:48.624193",
     "exception": false,
     "start_time": "2024-06-04T18:57:48.599525",
     "status": "completed"
    },
    "tags": []
   },
   "outputs": [
    {
     "data": {
      "text/html": [
       "<div>\n",
       "<style scoped>\n",
       "    .dataframe tbody tr th:only-of-type {\n",
       "        vertical-align: middle;\n",
       "    }\n",
       "\n",
       "    .dataframe tbody tr th {\n",
       "        vertical-align: top;\n",
       "    }\n",
       "\n",
       "    .dataframe thead th {\n",
       "        text-align: right;\n",
       "    }\n",
       "</style>\n",
       "<table border=\"1\" class=\"dataframe\">\n",
       "  <thead>\n",
       "    <tr style=\"text-align: right;\">\n",
       "      <th></th>\n",
       "      <th>Pclass</th>\n",
       "      <th>Age</th>\n",
       "      <th>Gender</th>\n",
       "    </tr>\n",
       "  </thead>\n",
       "  <tbody>\n",
       "    <tr>\n",
       "      <th>0</th>\n",
       "      <td>3</td>\n",
       "      <td>22.0</td>\n",
       "      <td>1</td>\n",
       "    </tr>\n",
       "    <tr>\n",
       "      <th>1</th>\n",
       "      <td>1</td>\n",
       "      <td>38.0</td>\n",
       "      <td>0</td>\n",
       "    </tr>\n",
       "    <tr>\n",
       "      <th>2</th>\n",
       "      <td>3</td>\n",
       "      <td>26.0</td>\n",
       "      <td>0</td>\n",
       "    </tr>\n",
       "    <tr>\n",
       "      <th>3</th>\n",
       "      <td>1</td>\n",
       "      <td>35.0</td>\n",
       "      <td>0</td>\n",
       "    </tr>\n",
       "    <tr>\n",
       "      <th>4</th>\n",
       "      <td>3</td>\n",
       "      <td>35.0</td>\n",
       "      <td>1</td>\n",
       "    </tr>\n",
       "  </tbody>\n",
       "</table>\n",
       "</div>"
      ],
      "text/plain": [
       "   Pclass   Age  Gender\n",
       "0       3  22.0       1\n",
       "1       1  38.0       0\n",
       "2       3  26.0       0\n",
       "3       1  35.0       0\n",
       "4       3  35.0       1"
      ]
     },
     "execution_count": 25,
     "metadata": {},
     "output_type": "execute_result"
    }
   ],
   "source": [
    "x.head()"
   ]
  },
  {
   "cell_type": "code",
   "execution_count": 26,
   "id": "8ae8398b",
   "metadata": {
    "execution": {
     "iopub.execute_input": "2024-06-04T18:57:48.644912Z",
     "iopub.status.busy": "2024-06-04T18:57:48.643718Z",
     "iopub.status.idle": "2024-06-04T18:57:48.651219Z",
     "shell.execute_reply": "2024-06-04T18:57:48.649851Z"
    },
    "papermill": {
     "duration": 0.021245,
     "end_time": "2024-06-04T18:57:48.654331",
     "exception": false,
     "start_time": "2024-06-04T18:57:48.633086",
     "status": "completed"
    },
    "tags": []
   },
   "outputs": [
    {
     "name": "stdout",
     "output_type": "stream",
     "text": [
      "Not Survived\n"
     ]
    }
   ],
   "source": [
    "if model.predict([[3,7,1]])[0]==1:\n",
    "    print(\"Survived\")\n",
    "else:\n",
    "    print(\"Not Survived\")\n"
   ]
  },
  {
   "cell_type": "code",
   "execution_count": null,
   "id": "35eaf11c",
   "metadata": {
    "papermill": {
     "duration": 0.008426,
     "end_time": "2024-06-04T18:57:48.671695",
     "exception": false,
     "start_time": "2024-06-04T18:57:48.663269",
     "status": "completed"
    },
    "tags": []
   },
   "outputs": [],
   "source": []
  }
 ],
 "metadata": {
  "kaggle": {
   "accelerator": "none",
   "dataSources": [
    {
     "datasetId": 1818188,
     "sourceId": 2965537,
     "sourceType": "datasetVersion"
    }
   ],
   "dockerImageVersionId": 30715,
   "isGpuEnabled": false,
   "isInternetEnabled": false,
   "language": "python",
   "sourceType": "notebook"
  },
  "kernelspec": {
   "display_name": "Python 3",
   "language": "python",
   "name": "python3"
  },
  "language_info": {
   "codemirror_mode": {
    "name": "ipython",
    "version": 3
   },
   "file_extension": ".py",
   "mimetype": "text/x-python",
   "name": "python",
   "nbconvert_exporter": "python",
   "pygments_lexer": "ipython3",
   "version": "3.10.13"
  },
  "papermill": {
   "default_parameters": {},
   "duration": 7.398586,
   "end_time": "2024-06-04T18:57:49.307139",
   "environment_variables": {},
   "exception": null,
   "input_path": "__notebook__.ipynb",
   "output_path": "__notebook__.ipynb",
   "parameters": {},
   "start_time": "2024-06-04T18:57:41.908553",
   "version": "2.5.0"
  }
 },
 "nbformat": 4,
 "nbformat_minor": 5
}
